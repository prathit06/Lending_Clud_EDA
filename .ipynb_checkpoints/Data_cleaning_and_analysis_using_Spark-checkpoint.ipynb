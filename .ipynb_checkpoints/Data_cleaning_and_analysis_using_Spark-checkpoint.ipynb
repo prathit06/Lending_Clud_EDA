{
 "cells": [
  {
   "cell_type": "code",
   "execution_count": 0,
   "metadata": {
    "colab": {},
    "colab_type": "code",
    "id": "HVdQtoK5pbfh"
   },
   "outputs": [],
   "source": [
    "!apt-get install openjdk-8-jdk-headless -qq > /dev/null\n",
    "!wget -q https://downloads.apache.org/spark/spark-2.4.5/spark-2.4.5-bin-hadoop2.7.tgz\n",
    "!tar xf spark-2.4.5-bin-hadoop2.7.tgz\n",
    "!pip install -q findspark\n",
    "import os\n",
    "os.environ[\"JAVA_HOME\"]  = \"/usr/lib/jvm/java-8-openjdk-amd64\"\n",
    "os.environ[\"SPARK_HOME\"] = \"/content/spark-2.4.5-bin-hadoop2.7\"\n",
    "import findspark\n",
    "findspark.init()"
   ]
  },
  {
   "cell_type": "code",
   "execution_count": 0,
   "metadata": {
    "colab": {},
    "colab_type": "code",
    "id": "e1ddxSfcpiWY"
   },
   "outputs": [],
   "source": [
    "#from google.colab import drive\n",
    "#drive.mount('/content/drive/')"
   ]
  },
  {
   "cell_type": "code",
   "execution_count": 0,
   "metadata": {
    "colab": {},
    "colab_type": "code",
    "id": "SFrAEk_OuuRX"
   },
   "outputs": [],
   "source": [
    "from pyspark.sql import SparkSession\n",
    "spark = SparkSession.builder.appName('DataCleaning_analysis').getOrCreate()"
   ]
  },
  {
   "cell_type": "code",
   "execution_count": 0,
   "metadata": {
    "colab": {},
    "colab_type": "code",
    "id": "NPsyJIeSucit"
   },
   "outputs": [],
   "source": [
    "df = spark.read.csv('/content/drive/My Drive/Datasets/LoanStats_2018Q4.csv',inferSchema = \"True\",header = \"True\")"
   ]
  },
  {
   "cell_type": "code",
   "execution_count": 0,
   "metadata": {
    "colab": {},
    "colab_type": "code",
    "id": "XnMtUSd7vDzF"
   },
   "outputs": [],
   "source": [
    "#df.printSchema()"
   ]
  },
  {
   "cell_type": "code",
   "execution_count": 224,
   "metadata": {
    "colab": {
     "base_uri": "https://localhost:8080/",
     "height": 35
    },
    "colab_type": "code",
    "id": "FzBhdtjivHH3",
    "outputId": "419f1a5d-ca5c-4e39-e98a-e1e0ae39492a"
   },
   "outputs": [
    {
     "data": {
      "text/plain": [
       "128416"
      ]
     },
     "execution_count": 224,
     "metadata": {
      "tags": []
     },
     "output_type": "execute_result"
    }
   ],
   "source": [
    "df.count()"
   ]
  },
  {
   "cell_type": "code",
   "execution_count": 0,
   "metadata": {
    "colab": {},
    "colab_type": "code",
    "id": "YiOwb4DfvJwH"
   },
   "outputs": [],
   "source": [
    "df_sel = df.select(['term','home_ownership','grade','purpose',\n",
    "                    'int_rate','addr_state','loan_status','application_type',\n",
    "                    'loan_amnt','emp_length','annual_inc','dti','delinq_2yrs',\n",
    "                    'revol_util','total_acc','num_tl_90g_dpd_24m','dti_joint'\n",
    "                    ])"
   ]
  },
  {
   "cell_type": "code",
   "execution_count": 0,
   "metadata": {
    "colab": {},
    "colab_type": "code",
    "id": "UlGHwujt0MOY"
   },
   "outputs": [],
   "source": [
    "#df_sel.describe().show()"
   ]
  },
  {
   "cell_type": "code",
   "execution_count": 226,
   "metadata": {
    "colab": {
     "base_uri": "https://localhost:8080/",
     "height": 195
    },
    "colab_type": "code",
    "id": "wVfxtFEZ1SF6",
    "outputId": "f10a8515-0d35-4e5a-fe05-158c8afc6546"
   },
   "outputs": [
    {
     "name": "stdout",
     "output_type": "stream",
     "text": [
      "+-------+----------+------------------+----------+------------------+------------------+-------------------+----------+------------------+\n",
      "|summary|      term|         loan_amnt|emp_length|        annual_inc|               dti|        delinq_2yrs|revol_util|         total_acc|\n",
      "+-------+----------+------------------+----------+------------------+------------------+-------------------+----------+------------------+\n",
      "|  count|    128412|            128412|    128412|            128412|            128175|             128412|    128256|            128412|\n",
      "|   mean|      null| 15971.32102139987|      null|  82797.3278609476| 19.93317753071978|0.22783696227766875|      null|22.677413325857398|\n",
      "| stddev|      null|10150.384232741852|      null|108298.46579150103|20.143542243475455| 0.7337929617806055|      null|12.129215673024776|\n",
      "|    min| 36 months|              1000|    1 year|               0.0|               0.0|                  0|        0%|                 2|\n",
      "|    max| 60 months|             40000|       n/a|         9757200.0|             999.0|                 24|    99.90%|               160|\n",
      "+-------+----------+------------------+----------+------------------+------------------+-------------------+----------+------------------+\n",
      "\n"
     ]
    }
   ],
   "source": [
    "df_sel.describe(['term','loan_amnt','emp_length','annual_inc','dti','delinq_2yrs','revol_util','total_acc']).show()"
   ]
  },
  {
   "cell_type": "code",
   "execution_count": 227,
   "metadata": {
    "colab": {
     "base_uri": "https://localhost:8080/",
     "height": 55
    },
    "colab_type": "code",
    "id": "j6pNgmE02q2F",
    "outputId": "c8ace449-8f85-485d-d45a-a68256eafead"
   },
   "outputs": [
    {
     "data": {
      "text/plain": [
       "<bound method DataFrame.cache of DataFrame[term: string, home_ownership: string, grade: string, purpose: string, int_rate: string, addr_state: string, loan_status: string, application_type: string, loan_amnt: int, emp_length: string, annual_inc: double, dti: double, delinq_2yrs: int, revol_util: string, total_acc: int, num_tl_90g_dpd_24m: int, dti_joint: double]>"
      ]
     },
     "execution_count": 227,
     "metadata": {
      "tags": []
     },
     "output_type": "execute_result"
    }
   ],
   "source": [
    "df_sel.cache                                                                    #cache the dataset in executer cache memory."
   ]
  },
  {
   "cell_type": "code",
   "execution_count": 180,
   "metadata": {
    "colab": {
     "base_uri": "https://localhost:8080/",
     "height": 195
    },
    "colab_type": "code",
    "id": "2PTTU_H23R75",
    "outputId": "e5ff4878-0c74-42a8-c1b2-a97765de0b1c"
   },
   "outputs": [
    {
     "name": "stdout",
     "output_type": "stream",
     "text": [
      "+-------+------------------+----------+------------------+-------------------+----------+------------------+\n",
      "|summary|         loan_amnt|emp_length|               dti|        delinq_2yrs|revol_util|         total_acc|\n",
      "+-------+------------------+----------+------------------+-------------------+----------+------------------+\n",
      "|  count|            128412|    128412|            128175|             128412|    128256|            128412|\n",
      "|   mean| 15971.32102139987|      null| 19.93317753071978|0.22783696227766875|      null|22.677413325857398|\n",
      "| stddev|10150.384232741852|      null|20.143542243475455| 0.7337929617806055|      null|12.129215673024776|\n",
      "|    min|              1000|    1 year|               0.0|                  0|        0%|                 2|\n",
      "|    max|             40000|       n/a|             999.0|                 24|    99.90%|               160|\n",
      "+-------+------------------+----------+------------------+-------------------+----------+------------------+\n",
      "\n"
     ]
    }
   ],
   "source": [
    "df_sel.describe(['loan_amnt','emp_length','dti','delinq_2yrs','revol_util','total_acc']).show()"
   ]
  },
  {
   "cell_type": "code",
   "execution_count": 181,
   "metadata": {
    "colab": {
     "base_uri": "https://localhost:8080/",
     "height": 284
    },
    "colab_type": "code",
    "id": "5I9y8Pza3iYw",
    "outputId": "6cef549f-97b8-490d-b96b-6e8bdce2e02b"
   },
   "outputs": [
    {
     "name": "stdout",
     "output_type": "stream",
     "text": [
      "+----------+\n",
      "|emp_length|\n",
      "+----------+\n",
      "|  < 1 year|\n",
      "|       n/a|\n",
      "|   3 years|\n",
      "| 10+ years|\n",
      "| 10+ years|\n",
      "|   6 years|\n",
      "|   5 years|\n",
      "| 10+ years|\n",
      "| 10+ years|\n",
      "|  < 1 year|\n",
      "+----------+\n",
      "\n"
     ]
    }
   ],
   "source": [
    "df.createOrReplaceTempView('loanStats')         #Temp table\n",
    "spark.sql('select emp_length from loanstats limit 10').show()"
   ]
  },
  {
   "cell_type": "code",
   "execution_count": 0,
   "metadata": {
    "colab": {},
    "colab_type": "code",
    "id": "QhdBnQPU4BWN"
   },
   "outputs": [],
   "source": [
    "from pyspark.sql.functions import regexp_extract,regexp_replace\n",
    "from pyspark.sql.functions import col"
   ]
  },
  {
   "cell_type": "code",
   "execution_count": 228,
   "metadata": {
    "colab": {
     "base_uri": "https://localhost:8080/",
     "height": 301
    },
    "colab_type": "code",
    "id": "jHxlsZQK79-u",
    "outputId": "fcb8c265-5f1d-4f60-fff0-c64d40e17490"
   },
   "outputs": [
    {
     "name": "stdout",
     "output_type": "stream",
     "text": [
      "+----------+------------+----------+------------------+\n",
      "|      term|term_cleaned|emp_length|emp_length_Cleaned|\n",
      "+----------+------------+----------+------------------+\n",
      "| 36 months|         36 |  < 1 year|                 1|\n",
      "| 36 months|         36 |       n/a|                  |\n",
      "| 36 months|         36 |   3 years|                 3|\n",
      "| 36 months|         36 | 10+ years|                10|\n",
      "| 60 months|         60 | 10+ years|                10|\n",
      "| 36 months|         36 |   6 years|                 6|\n",
      "| 60 months|         60 |   5 years|                 5|\n",
      "| 36 months|         36 | 10+ years|                10|\n",
      "| 60 months|         60 | 10+ years|                10|\n",
      "| 60 months|         60 |  < 1 year|                 1|\n",
      "+----------+------------+----------+------------------+\n",
      "only showing top 10 rows\n",
      "\n"
     ]
    }
   ],
   "source": [
    "regex_string = '\\\\d+'\n",
    "df_sel = df_sel.withColumn(\"term_cleaned\",regexp_replace(col('term'),'months','')).withColumn(\"emp_length_Cleaned\",regexp_extract(col('emp_length'),regex_string,0))\n",
    "df_sel.select('term','term_cleaned','emp_length','emp_length_Cleaned').show(10)"
   ]
  },
  {
   "cell_type": "code",
   "execution_count": 229,
   "metadata": {
    "colab": {
     "base_uri": "https://localhost:8080/",
     "height": 390
    },
    "colab_type": "code",
    "id": "pgo1pAXuAHLa",
    "outputId": "efbc3a2d-6c01-4965-e3f3-1a4fe72fed49"
   },
   "outputs": [
    {
     "name": "stdout",
     "output_type": "stream",
     "text": [
      "root\n",
      " |-- term: string (nullable = true)\n",
      " |-- home_ownership: string (nullable = true)\n",
      " |-- grade: string (nullable = true)\n",
      " |-- purpose: string (nullable = true)\n",
      " |-- int_rate: string (nullable = true)\n",
      " |-- addr_state: string (nullable = true)\n",
      " |-- loan_status: string (nullable = true)\n",
      " |-- application_type: string (nullable = true)\n",
      " |-- loan_amnt: integer (nullable = true)\n",
      " |-- emp_length: string (nullable = true)\n",
      " |-- annual_inc: double (nullable = true)\n",
      " |-- dti: double (nullable = true)\n",
      " |-- delinq_2yrs: integer (nullable = true)\n",
      " |-- revol_util: string (nullable = true)\n",
      " |-- total_acc: integer (nullable = true)\n",
      " |-- num_tl_90g_dpd_24m: integer (nullable = true)\n",
      " |-- dti_joint: double (nullable = true)\n",
      " |-- term_cleaned: string (nullable = true)\n",
      " |-- emp_length_Cleaned: string (nullable = true)\n",
      "\n"
     ]
    }
   ],
   "source": [
    "df_sel.printSchema()"
   ]
  },
  {
   "cell_type": "code",
   "execution_count": 230,
   "metadata": {
    "colab": {
     "base_uri": "https://localhost:8080/",
     "height": 248
    },
    "colab_type": "code",
    "id": "2boQP47BUcLs",
    "outputId": "f1fa1444-308e-4bb0-8e70-321c90ad7786"
   },
   "outputs": [
    {
     "name": "stdout",
     "output_type": "stream",
     "text": [
      "+------------------+-----+-----+-----+-----+----+---+---+----+\n",
      "| loan_status_grade|    A|    B|    C|    D|   E|  F|  G|null|\n",
      "+------------------+-----+-----+-----+-----+----+---+---+----+\n",
      "|   In Grace Period|   58|   98|  138|  111|  54|  8|  3|   0|\n",
      "|        Fully Paid| 1436| 1557| 1365|  913| 415| 39| 12|   0|\n",
      "|              null|    0|    0|    0|    0|   0|  0|  0|   4|\n",
      "|           Default|    0|    3|    3|    4|   5|  0|  0|   0|\n",
      "|Late (31-120 days)|   83|  195|  297|  262| 169| 18|  6|   0|\n",
      "| Late (16-30 days)|   46|   82|  112|  100|  57|  2|  2|   0|\n",
      "|           Current|36365|33874|29044|15640|5239|315| 73|   0|\n",
      "|       Charged Off|   23|   52|   59|   42|  23|  5|  5|   0|\n",
      "+------------------+-----+-----+-----+-----+----+---+---+----+\n",
      "\n"
     ]
    }
   ],
   "source": [
    "df_sel.stat.crosstab('loan_status','grade').show()"
   ]
  },
  {
   "cell_type": "code",
   "execution_count": 231,
   "metadata": {
    "colab": {
     "base_uri": "https://localhost:8080/",
     "height": 337
    },
    "colab_type": "code",
    "id": "180wFoulBSEe",
    "outputId": "a296a7b6-bdb2-46ae-f5d6-0b002a55fe89"
   },
   "outputs": [
    {
     "name": "stdout",
     "output_type": "stream",
     "text": [
      "+------------------+-----+\n",
      "|           purpose|count|\n",
      "+------------------+-----+\n",
      "|debt_consolidation|70603|\n",
      "|       credit_card|34961|\n",
      "|  home_improvement| 7512|\n",
      "|             other| 7094|\n",
      "|    major_purchase| 2303|\n",
      "|           medical| 1499|\n",
      "|    small_business| 1051|\n",
      "|               car| 1037|\n",
      "|             house|  823|\n",
      "|          vacation|  802|\n",
      "|            moving|  656|\n",
      "|  renewable_energy|   71|\n",
      "|              null|    4|\n",
      "+------------------+-----+\n",
      "\n"
     ]
    }
   ],
   "source": [
    "df_sel.createOrReplaceTempView('loanstats_sel')\n",
    "spark.sql('select purpose,count(*) as count from loanstats_sel group by purpose order by count(*) desc').show()"
   ]
  },
  {
   "cell_type": "code",
   "execution_count": 232,
   "metadata": {
    "colab": {
     "base_uri": "https://localhost:8080/",
     "height": 144
    },
    "colab_type": "code",
    "id": "K6KiEAc9TVcL",
    "outputId": "a195b35e-4542-4f23-8635-1ec5807aa770"
   },
   "outputs": [
    {
     "name": "stdout",
     "output_type": "stream",
     "text": [
      "+----+--------------+-----+-------+--------+----------+-----------+----------------+---------+----------+----------+---+-----------+----------+---------+------------------+---------+------------+------------------+\n",
      "|term|home_ownership|grade|purpose|int_rate|addr_state|loan_status|application_type|loan_amnt|emp_length|annual_inc|dti|delinq_2yrs|revol_util|total_acc|num_tl_90g_dpd_24m|dti_joint|term_cleaned|emp_length_Cleaned|\n",
      "+----+--------------+-----+-------+--------+----------+-----------+----------------+---------+----------+----------+---+-----------+----------+---------+------------------+---------+------------+------------------+\n",
      "|   4|             4|    4|      4|       4|         4|          4|               4|        4|         4|         4|241|          4|       160|        4|                 4|   111634|           4|                 4|\n",
      "+----+--------------+-----+-------+--------+----------+-----------+----------------+---------+----------+----------+---+-----------+----------+---------+------------------+---------+------------+------------------+\n",
      "\n"
     ]
    }
   ],
   "source": [
    "from pyspark.sql.functions import *\n",
    "df_sel.select([ count(  when(isnan(c) | col(c).isNull(),c)).alias(c) for c in df_sel.columns]).show()"
   ]
  },
  {
   "cell_type": "code",
   "execution_count": 0,
   "metadata": {
    "colab": {},
    "colab_type": "code",
    "id": "Oormn2fxSVjf"
   },
   "outputs": [],
   "source": [
    "df_sel = df_sel.na.drop('any',None,\"loan_status\")"
   ]
  },
  {
   "cell_type": "code",
   "execution_count": 234,
   "metadata": {
    "colab": {
     "base_uri": "https://localhost:8080/",
     "height": 144
    },
    "colab_type": "code",
    "id": "cM8kOslnS39_",
    "outputId": "c75ea5de-4f45-488d-ac42-264aa6324520"
   },
   "outputs": [
    {
     "name": "stdout",
     "output_type": "stream",
     "text": [
      "+----+--------------+-----+-------+--------+----------+-----------+----------------+---------+----------+----------+---+-----------+----------+---------+------------------+---------+------------+------------------+\n",
      "|term|home_ownership|grade|purpose|int_rate|addr_state|loan_status|application_type|loan_amnt|emp_length|annual_inc|dti|delinq_2yrs|revol_util|total_acc|num_tl_90g_dpd_24m|dti_joint|term_cleaned|emp_length_Cleaned|\n",
      "+----+--------------+-----+-------+--------+----------+-----------+----------------+---------+----------+----------+---+-----------+----------+---------+------------------+---------+------------+------------------+\n",
      "|   0|             0|    0|      0|       0|         0|          0|               0|        0|         0|         0|237|          0|       156|        0|                 0|   111630|           0|                 0|\n",
      "+----+--------------+-----+-------+--------+----------+-----------+----------------+---------+----------+----------+---+-----------+----------+---------+------------------+---------+------------+------------------+\n",
      "\n"
     ]
    }
   ],
   "source": [
    "df_sel.select([ count(  when(isnan(c) | col(c).isNull(),c)).alias(c) for c in df_sel.columns]).show()"
   ]
  },
  {
   "cell_type": "code",
   "execution_count": 235,
   "metadata": {
    "colab": {
     "base_uri": "https://localhost:8080/",
     "height": 195
    },
    "colab_type": "code",
    "id": "9UkkKDvBYKzG",
    "outputId": "f3973cf5-06ba-4fe7-c5b8-60ae70d3ddcf"
   },
   "outputs": [
    {
     "name": "stdout",
     "output_type": "stream",
     "text": [
      "+-------+------------------+----------+\n",
      "|summary|         dti_joint|revol_util|\n",
      "+-------+------------------+----------+\n",
      "|  count|             16782|    128256|\n",
      "|   mean|19.226602312000985|      null|\n",
      "| stddev|  8.14163126459558|      null|\n",
      "|    min|               0.0|        0%|\n",
      "|    max|             39.99|    99.90%|\n",
      "+-------+------------------+----------+\n",
      "\n"
     ]
    }
   ],
   "source": [
    "df_sel.describe(['dti_joint','revol_util']).show()"
   ]
  },
  {
   "cell_type": "code",
   "execution_count": 0,
   "metadata": {
    "colab": {},
    "colab_type": "code",
    "id": "wdp1CKbMYvpd"
   },
   "outputs": [],
   "source": [
    "df_sel = df_sel.withColumn('revol_util_cleaned',regexp_replace(col('revol_util'),\"%\",\"\"))"
   ]
  },
  {
   "cell_type": "code",
   "execution_count": 0,
   "metadata": {
    "colab": {},
    "colab_type": "code",
    "id": "F1jgsJt0p7JI"
   },
   "outputs": [],
   "source": [
    "df_sel.createOrReplaceTempView('loanstats_sel')"
   ]
  },
  {
   "cell_type": "code",
   "execution_count": 0,
   "metadata": {
    "colab": {},
    "colab_type": "code",
    "id": "D9wm7n4yZckH"
   },
   "outputs": [],
   "source": [
    "mean_revol_util = spark.sql('select avg(revol_util_cleaned) from loanstats_sel').collect()[0][0]\n",
    "df_sel = df_sel.withColumn('mean_revol_util',lit(mean_revol_util))\n",
    "df_sel = df_sel.withColumn('revol_util_filled',coalesce(col('revol_util_cleaned'),col('mean_revol_util')))"
   ]
  },
  {
   "cell_type": "code",
   "execution_count": 241,
   "metadata": {
    "colab": {
     "base_uri": "https://localhost:8080/",
     "height": 144
    },
    "colab_type": "code",
    "id": "5ImBFc-oqGgC",
    "outputId": "de4479fc-c7b5-454c-e401-926a4c6fc703"
   },
   "outputs": [
    {
     "name": "stdout",
     "output_type": "stream",
     "text": [
      "+----+--------------+-----+-------+--------+----------+-----------+----------------+---------+----------+----------+---+-----------+----------+---------+------------------+---------+------------+------------------+------------------+---------------+-----------------+\n",
      "|term|home_ownership|grade|purpose|int_rate|addr_state|loan_status|application_type|loan_amnt|emp_length|annual_inc|dti|delinq_2yrs|revol_util|total_acc|num_tl_90g_dpd_24m|dti_joint|term_cleaned|emp_length_Cleaned|revol_util_cleaned|mean_revol_util|revol_util_filled|\n",
      "+----+--------------+-----+-------+--------+----------+-----------+----------------+---------+----------+----------+---+-----------+----------+---------+------------------+---------+------------+------------------+------------------+---------------+-----------------+\n",
      "|   0|             0|    0|      0|       0|         0|          0|               0|        0|         0|         0|237|          0|       156|        0|                 0|   111630|           0|                 0|               156|              0|                0|\n",
      "+----+--------------+-----+-------+--------+----------+-----------+----------------+---------+----------+----------+---+-----------+----------+---------+------------------+---------+------------+------------------+------------------+---------------+-----------------+\n",
      "\n"
     ]
    }
   ],
   "source": [
    "df_sel.select([ count(  when(isnan(c) | col(c).isNull(),c)).alias(c) for c in df_sel.columns]).show()"
   ]
  },
  {
   "cell_type": "code",
   "execution_count": 0,
   "metadata": {
    "colab": {},
    "colab_type": "code",
    "id": "xgpuUWgOe6BU"
   },
   "outputs": [],
   "source": [
    "df_sel.createOrReplaceTempView('loanstats_sel')"
   ]
  },
  {
   "cell_type": "code",
   "execution_count": 0,
   "metadata": {
    "colab": {},
    "colab_type": "code",
    "id": "RGg0dQPbfGqq"
   },
   "outputs": [],
   "source": [
    "df_sel = spark.sql('select *, cast(revol_util_filled as double) as revol_util_final from loanstats_sel')"
   ]
  },
  {
   "cell_type": "code",
   "execution_count": 244,
   "metadata": {
    "colab": {
     "base_uri": "https://localhost:8080/",
     "height": 461
    },
    "colab_type": "code",
    "id": "vJAuo_hjfRYL",
    "outputId": "32b57212-cf4e-418b-9b9b-b0dd27b6f237"
   },
   "outputs": [
    {
     "name": "stdout",
     "output_type": "stream",
     "text": [
      "root\n",
      " |-- term: string (nullable = true)\n",
      " |-- home_ownership: string (nullable = true)\n",
      " |-- grade: string (nullable = true)\n",
      " |-- purpose: string (nullable = true)\n",
      " |-- int_rate: string (nullable = true)\n",
      " |-- addr_state: string (nullable = true)\n",
      " |-- loan_status: string (nullable = true)\n",
      " |-- application_type: string (nullable = true)\n",
      " |-- loan_amnt: integer (nullable = true)\n",
      " |-- emp_length: string (nullable = true)\n",
      " |-- annual_inc: double (nullable = true)\n",
      " |-- dti: double (nullable = true)\n",
      " |-- delinq_2yrs: integer (nullable = true)\n",
      " |-- revol_util: string (nullable = true)\n",
      " |-- total_acc: integer (nullable = true)\n",
      " |-- num_tl_90g_dpd_24m: integer (nullable = true)\n",
      " |-- dti_joint: double (nullable = true)\n",
      " |-- term_cleaned: string (nullable = true)\n",
      " |-- emp_length_Cleaned: string (nullable = true)\n",
      " |-- revol_util_cleaned: string (nullable = true)\n",
      " |-- mean_revol_util: double (nullable = false)\n",
      " |-- revol_util_filled: string (nullable = false)\n",
      " |-- revol_util_final: double (nullable = true)\n",
      "\n"
     ]
    }
   ],
   "source": [
    "df_sel.printSchema()"
   ]
  },
  {
   "cell_type": "code",
   "execution_count": 245,
   "metadata": {
    "colab": {
     "base_uri": "https://localhost:8080/",
     "height": 195
    },
    "colab_type": "code",
    "id": "Y7rdFfbmnFyL",
    "outputId": "81222185-2b14-44b9-d757-094f9a8fd493"
   },
   "outputs": [
    {
     "name": "stdout",
     "output_type": "stream",
     "text": [
      "+-------+----------+-----------------+\n",
      "|summary|revol_util| revol_util_final|\n",
      "+-------+----------+-----------------+\n",
      "|  count|    128256|           128412|\n",
      "|   mean|      null|44.19728121881271|\n",
      "| stddev|      null|24.78377355680623|\n",
      "|    min|        0%|              0.0|\n",
      "|    max|    99.90%|            183.8|\n",
      "+-------+----------+-----------------+\n",
      "\n"
     ]
    }
   ],
   "source": [
    "df_sel.describe(['revol_util','revol_util_final']).show()"
   ]
  },
  {
   "cell_type": "code",
   "execution_count": 0,
   "metadata": {
    "colab": {},
    "colab_type": "code",
    "id": "kyMbM_jKnVLP"
   },
   "outputs": [],
   "source": [
    "df_sel = df_sel.withColumn('final_dti',coalesce(col('dti'),col('dti_joint')))   #merging DTI and DTI_Joint"
   ]
  },
  {
   "cell_type": "code",
   "execution_count": 248,
   "metadata": {
    "colab": {
     "base_uri": "https://localhost:8080/",
     "height": 144
    },
    "colab_type": "code",
    "id": "imYx7cvYor7J",
    "outputId": "65f660fd-f664-48ee-e1fd-d3b28bf2d128"
   },
   "outputs": [
    {
     "name": "stdout",
     "output_type": "stream",
     "text": [
      "+----+--------------+-----+-------+--------+----------+-----------+----------------+---------+----------+----------+---+-----------+----------+---------+------------------+---------+------------+------------------+------------------+---------------+-----------------+----------------+---------+\n",
      "|term|home_ownership|grade|purpose|int_rate|addr_state|loan_status|application_type|loan_amnt|emp_length|annual_inc|dti|delinq_2yrs|revol_util|total_acc|num_tl_90g_dpd_24m|dti_joint|term_cleaned|emp_length_Cleaned|revol_util_cleaned|mean_revol_util|revol_util_filled|revol_util_final|final_dti|\n",
      "+----+--------------+-----+-------+--------+----------+-----------+----------------+---------+----------+----------+---+-----------+----------+---------+------------------+---------+------------+------------------+------------------+---------------+-----------------+----------------+---------+\n",
      "|   0|             0|    0|      0|       0|         0|          0|               0|        0|         0|         0|237|          0|       156|        0|                 0|   111630|           0|                 0|               156|              0|                0|               0|        0|\n",
      "+----+--------------+-----+-------+--------+----------+-----------+----------------+---------+----------+----------+---+-----------+----------+---------+------------------+---------+------------+------------------+------------------+---------------+-----------------+----------------+---------+\n",
      "\n"
     ]
    }
   ],
   "source": [
    "df_sel.select([ count(  when(isnan(c) | col(c).isNull(),c)).alias(c) for c in df_sel.columns]).show()"
   ]
  },
  {
   "cell_type": "code",
   "execution_count": 254,
   "metadata": {
    "colab": {
     "base_uri": "https://localhost:8080/",
     "height": 230
    },
    "colab_type": "code",
    "id": "S4gumj6Ro4bG",
    "outputId": "4596bf6b-de7f-4e16-808e-55c5cbd0ab8a"
   },
   "outputs": [
    {
     "name": "stdout",
     "output_type": "stream",
     "text": [
      "+------------------+------+\n",
      "|       loan_status| count|\n",
      "+------------------+------+\n",
      "|        Fully Paid|  5737|\n",
      "|           Default|    15|\n",
      "|   In Grace Period|   470|\n",
      "|       Charged Off|   209|\n",
      "|Late (31-120 days)|  1030|\n",
      "|           Current|120550|\n",
      "| Late (16-30 days)|   401|\n",
      "+------------------+------+\n",
      "\n"
     ]
    }
   ],
   "source": [
    "df_sel.createOrReplaceTempView('loanstats_sel')\n",
    "spark.sql('select loan_status , count(*) as count from loanstats_sel group by loan_status').show()"
   ]
  },
  {
   "cell_type": "code",
   "execution_count": 0,
   "metadata": {
    "colab": {},
    "colab_type": "code",
    "id": "-31iOfHkrBvL"
   },
   "outputs": [],
   "source": [
    "# merging all late type of loan_status into one column\n",
    "# segregating load_status into two parts i.e. bad loan = yes/no"
   ]
  },
  {
   "cell_type": "code",
   "execution_count": 0,
   "metadata": {
    "colab": {},
    "colab_type": "code",
    "id": "68jpFCUFrOfZ"
   },
   "outputs": [],
   "source": [
    "df_sel = df_sel.withColumn('bad_loan',when(col('loan_status').isin(['In Grace Period','Charged Off','Late (31-120 days)','Late (16-30 days)']),'yes').otherwise('no'))"
   ]
  },
  {
   "cell_type": "code",
   "execution_count": 261,
   "metadata": {
    "colab": {
     "base_uri": "https://localhost:8080/",
     "height": 141
    },
    "colab_type": "code",
    "id": "UBFX3EZosU47",
    "outputId": "9795203c-8849-46f9-a273-74f1d844b40d"
   },
   "outputs": [
    {
     "name": "stdout",
     "output_type": "stream",
     "text": [
      "+--------+------+\n",
      "|bad_loan| count|\n",
      "+--------+------+\n",
      "|      no|126302|\n",
      "|     yes|  2110|\n",
      "+--------+------+\n",
      "\n"
     ]
    }
   ],
   "source": [
    "df_sel.createOrReplaceTempView('loanstats_sel')\n",
    "spark.sql('select bad_loan , count(*) as count from loanstats_sel group by bad_loan').show()"
   ]
  },
  {
   "cell_type": "code",
   "execution_count": 265,
   "metadata": {
    "colab": {
     "base_uri": "https://localhost:8080/",
     "height": 497
    },
    "colab_type": "code",
    "id": "GauoQNMtug_R",
    "outputId": "97ee03ac-d5da-4f11-c40c-73a200d37940"
   },
   "outputs": [
    {
     "name": "stdout",
     "output_type": "stream",
     "text": [
      "root\n",
      " |-- term: string (nullable = true)\n",
      " |-- home_ownership: string (nullable = true)\n",
      " |-- grade: string (nullable = true)\n",
      " |-- purpose: string (nullable = true)\n",
      " |-- int_rate: string (nullable = true)\n",
      " |-- addr_state: string (nullable = true)\n",
      " |-- loan_status: string (nullable = true)\n",
      " |-- application_type: string (nullable = true)\n",
      " |-- loan_amnt: integer (nullable = true)\n",
      " |-- emp_length: string (nullable = true)\n",
      " |-- annual_inc: double (nullable = true)\n",
      " |-- dti: double (nullable = true)\n",
      " |-- delinq_2yrs: integer (nullable = true)\n",
      " |-- revol_util: string (nullable = true)\n",
      " |-- total_acc: integer (nullable = true)\n",
      " |-- num_tl_90g_dpd_24m: integer (nullable = true)\n",
      " |-- dti_joint: double (nullable = true)\n",
      " |-- term_cleaned: string (nullable = true)\n",
      " |-- emp_length_Cleaned: string (nullable = true)\n",
      " |-- revol_util_cleaned: string (nullable = true)\n",
      " |-- mean_revol_util: double (nullable = false)\n",
      " |-- revol_util_filled: string (nullable = false)\n",
      " |-- revol_util_final: double (nullable = true)\n",
      " |-- final_dti: double (nullable = true)\n",
      " |-- bad_loan: string (nullable = false)\n",
      "\n"
     ]
    }
   ],
   "source": [
    "df_sel.printSchema()"
   ]
  },
  {
   "cell_type": "code",
   "execution_count": 0,
   "metadata": {
    "colab": {},
    "colab_type": "code",
    "id": "2TVRoll5uumn"
   },
   "outputs": [],
   "source": [
    "final_df = df_sel.drop('term','emp_length','dti','dti_joint','revol_util_filled','revol_util_cleaned','mean_revol_util')"
   ]
  },
  {
   "cell_type": "code",
   "execution_count": 270,
   "metadata": {
    "colab": {
     "base_uri": "https://localhost:8080/",
     "height": 372
    },
    "colab_type": "code",
    "id": "AHuVeBnUvAkd",
    "outputId": "fa82c41a-d010-4c6d-83e6-2f8ca0cd89d1"
   },
   "outputs": [
    {
     "name": "stdout",
     "output_type": "stream",
     "text": [
      "root\n",
      " |-- home_ownership: string (nullable = true)\n",
      " |-- grade: string (nullable = true)\n",
      " |-- purpose: string (nullable = true)\n",
      " |-- int_rate: string (nullable = true)\n",
      " |-- addr_state: string (nullable = true)\n",
      " |-- loan_status: string (nullable = true)\n",
      " |-- application_type: string (nullable = true)\n",
      " |-- loan_amnt: integer (nullable = true)\n",
      " |-- annual_inc: double (nullable = true)\n",
      " |-- delinq_2yrs: integer (nullable = true)\n",
      " |-- revol_util: string (nullable = true)\n",
      " |-- total_acc: integer (nullable = true)\n",
      " |-- num_tl_90g_dpd_24m: integer (nullable = true)\n",
      " |-- term_cleaned: string (nullable = true)\n",
      " |-- emp_length_Cleaned: string (nullable = true)\n",
      " |-- revol_util_final: double (nullable = true)\n",
      " |-- final_dti: double (nullable = true)\n",
      " |-- bad_loan: string (nullable = false)\n",
      "\n"
     ]
    }
   ],
   "source": [
    "final_df.printSchema()"
   ]
  },
  {
   "cell_type": "code",
   "execution_count": 272,
   "metadata": {
    "colab": {
     "base_uri": "https://localhost:8080/",
     "height": 141
    },
    "colab_type": "code",
    "id": "7Cu55oXBvFSC",
    "outputId": "b5216647-b6bd-452c-d396-942c525cab2a"
   },
   "outputs": [
    {
     "name": "stdout",
     "output_type": "stream",
     "text": [
      "+--------------+-----+-----+-----+-----+----+---+---+\n",
      "|bad_loan_grade|    A|    B|    C|    D|   E|  F|  G|\n",
      "+--------------+-----+-----+-----+-----+----+---+---+\n",
      "|           yes|  210|  427|  606|  515| 303| 33| 16|\n",
      "|            no|37801|35434|30412|16557|5659|354| 85|\n",
      "+--------------+-----+-----+-----+-----+----+---+---+\n",
      "\n"
     ]
    }
   ],
   "source": [
    "final_df.stat.crosstab('bad_loan','grade').show()         # as we movie forward in grades the ratio of bad loan increases"
   ]
  },
  {
   "cell_type": "markdown",
   "metadata": {
    "colab_type": "text",
    "id": "dd9UW2j8wSWC"
   },
   "source": [
    "##creating a permanent table !\n",
    "\n"
   ]
  },
  {
   "cell_type": "code",
   "execution_count": 0,
   "metadata": {
    "colab": {},
    "colab_type": "code",
    "id": "0T5VD-9WwG2u"
   },
   "outputs": [],
   "source": [
    "final_df.write.format('parquet').saveAsTable('LC_Loan_Data')"
   ]
  },
  {
   "cell_type": "code",
   "execution_count": 281,
   "metadata": {
    "colab": {
     "base_uri": "https://localhost:8080/",
     "height": 232
    },
    "colab_type": "code",
    "id": "MzUNZQsqwRKb",
    "outputId": "09a0dad6-24c9-4618-b4a5-34024e2d0efe"
   },
   "outputs": [
    {
     "name": "stdout",
     "output_type": "stream",
     "text": [
      "+--------------+-----+------------------+--------+----------+-----------+----------------+---------+----------+-----------+----------+---------+------------------+------------+------------------+----------------+---------+--------+\n",
      "|home_ownership|grade|           purpose|int_rate|addr_state|loan_status|application_type|loan_amnt|annual_inc|delinq_2yrs|revol_util|total_acc|num_tl_90g_dpd_24m|term_cleaned|emp_length_Cleaned|revol_util_final|final_dti|bad_loan|\n",
      "+--------------+-----+------------------+--------+----------+-----------+----------------+---------+----------+-----------+----------+---------+------------------+------------+------------------+----------------+---------+--------+\n",
      "|      MORTGAGE|    B|debt_consolidation|  10.33%|        OR|    Current|      Individual|    10000|  280000.0|          2|       38%|       23|                 0|         36 |                 1|            38.0|     6.15|      no|\n",
      "|      MORTGAGE|    B|  home_improvement|  12.98%|        KY|    Current|      Individual|     9600|   35704.0|          0|    11.50%|       23|                 0|         36 |                  |            11.5|     0.84|      no|\n",
      "|          RENT|    E|debt_consolidation|  23.40%|        NJ|    Current|      Individual|     4000|   90000.0|          0|    19.20%|       20|                 0|         36 |                 3|            19.2|    26.33|      no|\n",
      "|          RENT|    C|debt_consolidation|  13.56%|        NY|    Current|      Individual|     2500|   55000.0|          0|    10.30%|       34|                 0|         36 |                10|            10.3|    18.24|      no|\n",
      "|      MORTGAGE|    D|debt_consolidation|  18.94%|        LA|    Current|      Individual|    30000|   90000.0|          0|    24.20%|       44|                 0|         60 |                10|            24.2|    26.52|      no|\n",
      "+--------------+-----+------------------+--------+----------+-----------+----------------+---------+----------+-----------+----------+---------+------------------+------------+------------------+----------------+---------+--------+\n",
      "only showing top 5 rows\n",
      "\n"
     ]
    }
   ],
   "source": [
    "spark.sql('select * from lc_loan_Data').show(5)"
   ]
  },
  {
   "cell_type": "code",
   "execution_count": 0,
   "metadata": {
    "colab": {},
    "colab_type": "code",
    "id": "Hy7t7C7EwoXr"
   },
   "outputs": [],
   "source": []
  }
 ],
 "metadata": {
  "colab": {
   "collapsed_sections": [],
   "name": "Data cleaning and analysis using Spark.ipynb",
   "provenance": []
  },
  "kernelspec": {
   "display_name": "Python 3",
   "language": "python",
   "name": "python3"
  },
  "language_info": {
   "codemirror_mode": {
    "name": "ipython",
    "version": 3
   },
   "file_extension": ".py",
   "mimetype": "text/x-python",
   "name": "python",
   "nbconvert_exporter": "python",
   "pygments_lexer": "ipython3",
   "version": "3.7.6"
  }
 },
 "nbformat": 4,
 "nbformat_minor": 1
}
