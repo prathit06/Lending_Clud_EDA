{
  "nbformat": 4,
  "nbformat_minor": 0,
  "metadata": {
    "colab": {
      "name": "Data cleaning and analysis using Spark.ipynb",
      "provenance": [],
      "collapsed_sections": []
    },
    "kernelspec": {
      "name": "python3",
      "display_name": "Python 3"
    }
  },
  "cells": [
    {
      "cell_type": "code",
      "metadata": {
        "id": "HVdQtoK5pbfh",
        "colab_type": "code",
        "colab": {}
      },
      "source": [
        "!apt-get install openjdk-8-jdk-headless -qq > /dev/null\n",
        "!wget -q https://downloads.apache.org/spark/spark-2.4.5/spark-2.4.5-bin-hadoop2.7.tgz\n",
        "!tar xf spark-2.4.5-bin-hadoop2.7.tgz\n",
        "!pip install -q findspark\n",
        "import os\n",
        "os.environ[\"JAVA_HOME\"]  = \"/usr/lib/jvm/java-8-openjdk-amd64\"\n",
        "os.environ[\"SPARK_HOME\"] = \"/content/spark-2.4.5-bin-hadoop2.7\"\n",
        "import findspark\n",
        "findspark.init()"
      ],
      "execution_count": 0,
      "outputs": []
    },
    {
      "cell_type": "code",
      "metadata": {
        "id": "e1ddxSfcpiWY",
        "colab_type": "code",
        "colab": {}
      },
      "source": [
        "#from google.colab import drive\n",
        "#drive.mount('/content/drive/')"
      ],
      "execution_count": 0,
      "outputs": []
    },
    {
      "cell_type": "code",
      "metadata": {
        "id": "SFrAEk_OuuRX",
        "colab_type": "code",
        "colab": {}
      },
      "source": [
        "from pyspark.sql import SparkSession\n",
        "spark = SparkSession.builder.appName('DataCleaning_analysis').getOrCreate()"
      ],
      "execution_count": 0,
      "outputs": []
    },
    {
      "cell_type": "code",
      "metadata": {
        "id": "NPsyJIeSucit",
        "colab_type": "code",
        "colab": {}
      },
      "source": [
        "df = spark.read.csv('/content/drive/My Drive/Datasets/LoanStats_2018Q4.csv',inferSchema = \"True\",header = \"True\")"
      ],
      "execution_count": 0,
      "outputs": []
    },
    {
      "cell_type": "code",
      "metadata": {
        "id": "XnMtUSd7vDzF",
        "colab_type": "code",
        "colab": {}
      },
      "source": [
        "#df.printSchema()"
      ],
      "execution_count": 0,
      "outputs": []
    },
    {
      "cell_type": "code",
      "metadata": {
        "id": "FzBhdtjivHH3",
        "colab_type": "code",
        "colab": {
          "base_uri": "https://localhost:8080/",
          "height": 35
        },
        "outputId": "419f1a5d-ca5c-4e39-e98a-e1e0ae39492a"
      },
      "source": [
        "df.count()"
      ],
      "execution_count": 224,
      "outputs": [
        {
          "output_type": "execute_result",
          "data": {
            "text/plain": [
              "128416"
            ]
          },
          "metadata": {
            "tags": []
          },
          "execution_count": 224
        }
      ]
    },
    {
      "cell_type": "code",
      "metadata": {
        "id": "YiOwb4DfvJwH",
        "colab_type": "code",
        "colab": {}
      },
      "source": [
        "df_sel = df.select(['term','home_ownership','grade','purpose',\n",
        "                    'int_rate','addr_state','loan_status','application_type',\n",
        "                    'loan_amnt','emp_length','annual_inc','dti','delinq_2yrs',\n",
        "                    'revol_util','total_acc','num_tl_90g_dpd_24m','dti_joint'\n",
        "                    ])"
      ],
      "execution_count": 0,
      "outputs": []
    },
    {
      "cell_type": "code",
      "metadata": {
        "id": "UlGHwujt0MOY",
        "colab_type": "code",
        "colab": {}
      },
      "source": [
        "#df_sel.describe().show()"
      ],
      "execution_count": 0,
      "outputs": []
    },
    {
      "cell_type": "code",
      "metadata": {
        "id": "wVfxtFEZ1SF6",
        "colab_type": "code",
        "colab": {
          "base_uri": "https://localhost:8080/",
          "height": 195
        },
        "outputId": "f10a8515-0d35-4e5a-fe05-158c8afc6546"
      },
      "source": [
        "df_sel.describe(['term','loan_amnt','emp_length','annual_inc','dti','delinq_2yrs','revol_util','total_acc']).show()"
      ],
      "execution_count": 226,
      "outputs": [
        {
          "output_type": "stream",
          "text": [
            "+-------+----------+------------------+----------+------------------+------------------+-------------------+----------+------------------+\n",
            "|summary|      term|         loan_amnt|emp_length|        annual_inc|               dti|        delinq_2yrs|revol_util|         total_acc|\n",
            "+-------+----------+------------------+----------+------------------+------------------+-------------------+----------+------------------+\n",
            "|  count|    128412|            128412|    128412|            128412|            128175|             128412|    128256|            128412|\n",
            "|   mean|      null| 15971.32102139987|      null|  82797.3278609476| 19.93317753071978|0.22783696227766875|      null|22.677413325857398|\n",
            "| stddev|      null|10150.384232741852|      null|108298.46579150103|20.143542243475455| 0.7337929617806055|      null|12.129215673024776|\n",
            "|    min| 36 months|              1000|    1 year|               0.0|               0.0|                  0|        0%|                 2|\n",
            "|    max| 60 months|             40000|       n/a|         9757200.0|             999.0|                 24|    99.90%|               160|\n",
            "+-------+----------+------------------+----------+------------------+------------------+-------------------+----------+------------------+\n",
            "\n"
          ],
          "name": "stdout"
        }
      ]
    },
    {
      "cell_type": "code",
      "metadata": {
        "id": "j6pNgmE02q2F",
        "colab_type": "code",
        "colab": {
          "base_uri": "https://localhost:8080/",
          "height": 55
        },
        "outputId": "c8ace449-8f85-485d-d45a-a68256eafead"
      },
      "source": [
        "df_sel.cache                                                                    #cache the dataset in executer cache memory."
      ],
      "execution_count": 227,
      "outputs": [
        {
          "output_type": "execute_result",
          "data": {
            "text/plain": [
              "<bound method DataFrame.cache of DataFrame[term: string, home_ownership: string, grade: string, purpose: string, int_rate: string, addr_state: string, loan_status: string, application_type: string, loan_amnt: int, emp_length: string, annual_inc: double, dti: double, delinq_2yrs: int, revol_util: string, total_acc: int, num_tl_90g_dpd_24m: int, dti_joint: double]>"
            ]
          },
          "metadata": {
            "tags": []
          },
          "execution_count": 227
        }
      ]
    },
    {
      "cell_type": "code",
      "metadata": {
        "id": "2PTTU_H23R75",
        "colab_type": "code",
        "colab": {
          "base_uri": "https://localhost:8080/",
          "height": 195
        },
        "outputId": "e5ff4878-0c74-42a8-c1b2-a97765de0b1c"
      },
      "source": [
        "df_sel.describe(['loan_amnt','emp_length','dti','delinq_2yrs','revol_util','total_acc']).show()"
      ],
      "execution_count": 180,
      "outputs": [
        {
          "output_type": "stream",
          "text": [
            "+-------+------------------+----------+------------------+-------------------+----------+------------------+\n",
            "|summary|         loan_amnt|emp_length|               dti|        delinq_2yrs|revol_util|         total_acc|\n",
            "+-------+------------------+----------+------------------+-------------------+----------+------------------+\n",
            "|  count|            128412|    128412|            128175|             128412|    128256|            128412|\n",
            "|   mean| 15971.32102139987|      null| 19.93317753071978|0.22783696227766875|      null|22.677413325857398|\n",
            "| stddev|10150.384232741852|      null|20.143542243475455| 0.7337929617806055|      null|12.129215673024776|\n",
            "|    min|              1000|    1 year|               0.0|                  0|        0%|                 2|\n",
            "|    max|             40000|       n/a|             999.0|                 24|    99.90%|               160|\n",
            "+-------+------------------+----------+------------------+-------------------+----------+------------------+\n",
            "\n"
          ],
          "name": "stdout"
        }
      ]
    },
    {
      "cell_type": "code",
      "metadata": {
        "id": "5I9y8Pza3iYw",
        "colab_type": "code",
        "colab": {
          "base_uri": "https://localhost:8080/",
          "height": 284
        },
        "outputId": "6cef549f-97b8-490d-b96b-6e8bdce2e02b"
      },
      "source": [
        "df.createOrReplaceTempView('loanStats')         #Temp table\n",
        "spark.sql('select emp_length from loanstats limit 10').show()"
      ],
      "execution_count": 181,
      "outputs": [
        {
          "output_type": "stream",
          "text": [
            "+----------+\n",
            "|emp_length|\n",
            "+----------+\n",
            "|  < 1 year|\n",
            "|       n/a|\n",
            "|   3 years|\n",
            "| 10+ years|\n",
            "| 10+ years|\n",
            "|   6 years|\n",
            "|   5 years|\n",
            "| 10+ years|\n",
            "| 10+ years|\n",
            "|  < 1 year|\n",
            "+----------+\n",
            "\n"
          ],
          "name": "stdout"
        }
      ]
    },
    {
      "cell_type": "code",
      "metadata": {
        "id": "QhdBnQPU4BWN",
        "colab_type": "code",
        "colab": {}
      },
      "source": [
        "from pyspark.sql.functions import regexp_extract,regexp_replace\n",
        "from pyspark.sql.functions import col"
      ],
      "execution_count": 0,
      "outputs": []
    },
    {
      "cell_type": "code",
      "metadata": {
        "id": "jHxlsZQK79-u",
        "colab_type": "code",
        "colab": {
          "base_uri": "https://localhost:8080/",
          "height": 301
        },
        "outputId": "fcb8c265-5f1d-4f60-fff0-c64d40e17490"
      },
      "source": [
        "regex_string = '\\\\d+'\n",
        "df_sel = df_sel.withColumn(\"term_cleaned\",regexp_replace(col('term'),'months','')).withColumn(\"emp_length_Cleaned\",regexp_extract(col('emp_length'),regex_string,0))\n",
        "df_sel.select('term','term_cleaned','emp_length','emp_length_Cleaned').show(10)"
      ],
      "execution_count": 228,
      "outputs": [
        {
          "output_type": "stream",
          "text": [
            "+----------+------------+----------+------------------+\n",
            "|      term|term_cleaned|emp_length|emp_length_Cleaned|\n",
            "+----------+------------+----------+------------------+\n",
            "| 36 months|         36 |  < 1 year|                 1|\n",
            "| 36 months|         36 |       n/a|                  |\n",
            "| 36 months|         36 |   3 years|                 3|\n",
            "| 36 months|         36 | 10+ years|                10|\n",
            "| 60 months|         60 | 10+ years|                10|\n",
            "| 36 months|         36 |   6 years|                 6|\n",
            "| 60 months|         60 |   5 years|                 5|\n",
            "| 36 months|         36 | 10+ years|                10|\n",
            "| 60 months|         60 | 10+ years|                10|\n",
            "| 60 months|         60 |  < 1 year|                 1|\n",
            "+----------+------------+----------+------------------+\n",
            "only showing top 10 rows\n",
            "\n"
          ],
          "name": "stdout"
        }
      ]
    },
    {
      "cell_type": "code",
      "metadata": {
        "id": "pgo1pAXuAHLa",
        "colab_type": "code",
        "colab": {
          "base_uri": "https://localhost:8080/",
          "height": 390
        },
        "outputId": "efbc3a2d-6c01-4965-e3f3-1a4fe72fed49"
      },
      "source": [
        "df_sel.printSchema()"
      ],
      "execution_count": 229,
      "outputs": [
        {
          "output_type": "stream",
          "text": [
            "root\n",
            " |-- term: string (nullable = true)\n",
            " |-- home_ownership: string (nullable = true)\n",
            " |-- grade: string (nullable = true)\n",
            " |-- purpose: string (nullable = true)\n",
            " |-- int_rate: string (nullable = true)\n",
            " |-- addr_state: string (nullable = true)\n",
            " |-- loan_status: string (nullable = true)\n",
            " |-- application_type: string (nullable = true)\n",
            " |-- loan_amnt: integer (nullable = true)\n",
            " |-- emp_length: string (nullable = true)\n",
            " |-- annual_inc: double (nullable = true)\n",
            " |-- dti: double (nullable = true)\n",
            " |-- delinq_2yrs: integer (nullable = true)\n",
            " |-- revol_util: string (nullable = true)\n",
            " |-- total_acc: integer (nullable = true)\n",
            " |-- num_tl_90g_dpd_24m: integer (nullable = true)\n",
            " |-- dti_joint: double (nullable = true)\n",
            " |-- term_cleaned: string (nullable = true)\n",
            " |-- emp_length_Cleaned: string (nullable = true)\n",
            "\n"
          ],
          "name": "stdout"
        }
      ]
    },
    {
      "cell_type": "code",
      "metadata": {
        "id": "2boQP47BUcLs",
        "colab_type": "code",
        "colab": {
          "base_uri": "https://localhost:8080/",
          "height": 248
        },
        "outputId": "f1fa1444-308e-4bb0-8e70-321c90ad7786"
      },
      "source": [
        "df_sel.stat.crosstab('loan_status','grade').show()"
      ],
      "execution_count": 230,
      "outputs": [
        {
          "output_type": "stream",
          "text": [
            "+------------------+-----+-----+-----+-----+----+---+---+----+\n",
            "| loan_status_grade|    A|    B|    C|    D|   E|  F|  G|null|\n",
            "+------------------+-----+-----+-----+-----+----+---+---+----+\n",
            "|   In Grace Period|   58|   98|  138|  111|  54|  8|  3|   0|\n",
            "|        Fully Paid| 1436| 1557| 1365|  913| 415| 39| 12|   0|\n",
            "|              null|    0|    0|    0|    0|   0|  0|  0|   4|\n",
            "|           Default|    0|    3|    3|    4|   5|  0|  0|   0|\n",
            "|Late (31-120 days)|   83|  195|  297|  262| 169| 18|  6|   0|\n",
            "| Late (16-30 days)|   46|   82|  112|  100|  57|  2|  2|   0|\n",
            "|           Current|36365|33874|29044|15640|5239|315| 73|   0|\n",
            "|       Charged Off|   23|   52|   59|   42|  23|  5|  5|   0|\n",
            "+------------------+-----+-----+-----+-----+----+---+---+----+\n",
            "\n"
          ],
          "name": "stdout"
        }
      ]
    },
    {
      "cell_type": "code",
      "metadata": {
        "id": "180wFoulBSEe",
        "colab_type": "code",
        "colab": {
          "base_uri": "https://localhost:8080/",
          "height": 337
        },
        "outputId": "a296a7b6-bdb2-46ae-f5d6-0b002a55fe89"
      },
      "source": [
        "df_sel.createOrReplaceTempView('loanstats_sel')\n",
        "spark.sql('select purpose,count(*) as count from loanstats_sel group by purpose order by count(*) desc').show()"
      ],
      "execution_count": 231,
      "outputs": [
        {
          "output_type": "stream",
          "text": [
            "+------------------+-----+\n",
            "|           purpose|count|\n",
            "+------------------+-----+\n",
            "|debt_consolidation|70603|\n",
            "|       credit_card|34961|\n",
            "|  home_improvement| 7512|\n",
            "|             other| 7094|\n",
            "|    major_purchase| 2303|\n",
            "|           medical| 1499|\n",
            "|    small_business| 1051|\n",
            "|               car| 1037|\n",
            "|             house|  823|\n",
            "|          vacation|  802|\n",
            "|            moving|  656|\n",
            "|  renewable_energy|   71|\n",
            "|              null|    4|\n",
            "+------------------+-----+\n",
            "\n"
          ],
          "name": "stdout"
        }
      ]
    },
    {
      "cell_type": "code",
      "metadata": {
        "id": "K6KiEAc9TVcL",
        "colab_type": "code",
        "colab": {
          "base_uri": "https://localhost:8080/",
          "height": 144
        },
        "outputId": "a195b35e-4542-4f23-8635-1ec5807aa770"
      },
      "source": [
        "from pyspark.sql.functions import *\n",
        "df_sel.select([ count(  when(isnan(c) | col(c).isNull(),c)).alias(c) for c in df_sel.columns]).show()"
      ],
      "execution_count": 232,
      "outputs": [
        {
          "output_type": "stream",
          "text": [
            "+----+--------------+-----+-------+--------+----------+-----------+----------------+---------+----------+----------+---+-----------+----------+---------+------------------+---------+------------+------------------+\n",
            "|term|home_ownership|grade|purpose|int_rate|addr_state|loan_status|application_type|loan_amnt|emp_length|annual_inc|dti|delinq_2yrs|revol_util|total_acc|num_tl_90g_dpd_24m|dti_joint|term_cleaned|emp_length_Cleaned|\n",
            "+----+--------------+-----+-------+--------+----------+-----------+----------------+---------+----------+----------+---+-----------+----------+---------+------------------+---------+------------+------------------+\n",
            "|   4|             4|    4|      4|       4|         4|          4|               4|        4|         4|         4|241|          4|       160|        4|                 4|   111634|           4|                 4|\n",
            "+----+--------------+-----+-------+--------+----------+-----------+----------------+---------+----------+----------+---+-----------+----------+---------+------------------+---------+------------+------------------+\n",
            "\n"
          ],
          "name": "stdout"
        }
      ]
    },
    {
      "cell_type": "code",
      "metadata": {
        "id": "Oormn2fxSVjf",
        "colab_type": "code",
        "colab": {}
      },
      "source": [
        "df_sel = df_sel.na.drop('any',None,\"loan_status\")"
      ],
      "execution_count": 0,
      "outputs": []
    },
    {
      "cell_type": "code",
      "metadata": {
        "id": "cM8kOslnS39_",
        "colab_type": "code",
        "colab": {
          "base_uri": "https://localhost:8080/",
          "height": 144
        },
        "outputId": "c75ea5de-4f45-488d-ac42-264aa6324520"
      },
      "source": [
        "df_sel.select([ count(  when(isnan(c) | col(c).isNull(),c)).alias(c) for c in df_sel.columns]).show()"
      ],
      "execution_count": 234,
      "outputs": [
        {
          "output_type": "stream",
          "text": [
            "+----+--------------+-----+-------+--------+----------+-----------+----------------+---------+----------+----------+---+-----------+----------+---------+------------------+---------+------------+------------------+\n",
            "|term|home_ownership|grade|purpose|int_rate|addr_state|loan_status|application_type|loan_amnt|emp_length|annual_inc|dti|delinq_2yrs|revol_util|total_acc|num_tl_90g_dpd_24m|dti_joint|term_cleaned|emp_length_Cleaned|\n",
            "+----+--------------+-----+-------+--------+----------+-----------+----------------+---------+----------+----------+---+-----------+----------+---------+------------------+---------+------------+------------------+\n",
            "|   0|             0|    0|      0|       0|         0|          0|               0|        0|         0|         0|237|          0|       156|        0|                 0|   111630|           0|                 0|\n",
            "+----+--------------+-----+-------+--------+----------+-----------+----------------+---------+----------+----------+---+-----------+----------+---------+------------------+---------+------------+------------------+\n",
            "\n"
          ],
          "name": "stdout"
        }
      ]
    },
    {
      "cell_type": "code",
      "metadata": {
        "id": "9UkkKDvBYKzG",
        "colab_type": "code",
        "colab": {
          "base_uri": "https://localhost:8080/",
          "height": 195
        },
        "outputId": "f3973cf5-06ba-4fe7-c5b8-60ae70d3ddcf"
      },
      "source": [
        "df_sel.describe(['dti_joint','revol_util']).show()"
      ],
      "execution_count": 235,
      "outputs": [
        {
          "output_type": "stream",
          "text": [
            "+-------+------------------+----------+\n",
            "|summary|         dti_joint|revol_util|\n",
            "+-------+------------------+----------+\n",
            "|  count|             16782|    128256|\n",
            "|   mean|19.226602312000985|      null|\n",
            "| stddev|  8.14163126459558|      null|\n",
            "|    min|               0.0|        0%|\n",
            "|    max|             39.99|    99.90%|\n",
            "+-------+------------------+----------+\n",
            "\n"
          ],
          "name": "stdout"
        }
      ]
    },
    {
      "cell_type": "code",
      "metadata": {
        "id": "wdp1CKbMYvpd",
        "colab_type": "code",
        "colab": {}
      },
      "source": [
        "df_sel = df_sel.withColumn('revol_util_cleaned',regexp_replace(col('revol_util'),\"%\",\"\"))"
      ],
      "execution_count": 0,
      "outputs": []
    },
    {
      "cell_type": "code",
      "metadata": {
        "id": "F1jgsJt0p7JI",
        "colab_type": "code",
        "colab": {}
      },
      "source": [
        "df_sel.createOrReplaceTempView('loanstats_sel')"
      ],
      "execution_count": 0,
      "outputs": []
    },
    {
      "cell_type": "code",
      "metadata": {
        "id": "D9wm7n4yZckH",
        "colab_type": "code",
        "colab": {}
      },
      "source": [
        "mean_revol_util = spark.sql('select avg(revol_util_cleaned) from loanstats_sel').collect()[0][0]\n",
        "df_sel = df_sel.withColumn('mean_revol_util',lit(mean_revol_util))\n",
        "df_sel = df_sel.withColumn('revol_util_filled',coalesce(col('revol_util_cleaned'),col('mean_revol_util')))"
      ],
      "execution_count": 0,
      "outputs": []
    },
    {
      "cell_type": "code",
      "metadata": {
        "id": "5ImBFc-oqGgC",
        "colab_type": "code",
        "colab": {
          "base_uri": "https://localhost:8080/",
          "height": 144
        },
        "outputId": "de4479fc-c7b5-454c-e401-926a4c6fc703"
      },
      "source": [
        "df_sel.select([ count(  when(isnan(c) | col(c).isNull(),c)).alias(c) for c in df_sel.columns]).show()"
      ],
      "execution_count": 241,
      "outputs": [
        {
          "output_type": "stream",
          "text": [
            "+----+--------------+-----+-------+--------+----------+-----------+----------------+---------+----------+----------+---+-----------+----------+---------+------------------+---------+------------+------------------+------------------+---------------+-----------------+\n",
            "|term|home_ownership|grade|purpose|int_rate|addr_state|loan_status|application_type|loan_amnt|emp_length|annual_inc|dti|delinq_2yrs|revol_util|total_acc|num_tl_90g_dpd_24m|dti_joint|term_cleaned|emp_length_Cleaned|revol_util_cleaned|mean_revol_util|revol_util_filled|\n",
            "+----+--------------+-----+-------+--------+----------+-----------+----------------+---------+----------+----------+---+-----------+----------+---------+------------------+---------+------------+------------------+------------------+---------------+-----------------+\n",
            "|   0|             0|    0|      0|       0|         0|          0|               0|        0|         0|         0|237|          0|       156|        0|                 0|   111630|           0|                 0|               156|              0|                0|\n",
            "+----+--------------+-----+-------+--------+----------+-----------+----------------+---------+----------+----------+---+-----------+----------+---------+------------------+---------+------------+------------------+------------------+---------------+-----------------+\n",
            "\n"
          ],
          "name": "stdout"
        }
      ]
    },
    {
      "cell_type": "code",
      "metadata": {
        "id": "xgpuUWgOe6BU",
        "colab_type": "code",
        "colab": {}
      },
      "source": [
        "df_sel.createOrReplaceTempView('loanstats_sel')"
      ],
      "execution_count": 0,
      "outputs": []
    },
    {
      "cell_type": "code",
      "metadata": {
        "id": "RGg0dQPbfGqq",
        "colab_type": "code",
        "colab": {}
      },
      "source": [
        "df_sel = spark.sql('select *, cast(revol_util_filled as double) as revol_util_final from loanstats_sel')"
      ],
      "execution_count": 0,
      "outputs": []
    },
    {
      "cell_type": "code",
      "metadata": {
        "id": "vJAuo_hjfRYL",
        "colab_type": "code",
        "colab": {
          "base_uri": "https://localhost:8080/",
          "height": 461
        },
        "outputId": "32b57212-cf4e-418b-9b9b-b0dd27b6f237"
      },
      "source": [
        "df_sel.printSchema()"
      ],
      "execution_count": 244,
      "outputs": [
        {
          "output_type": "stream",
          "text": [
            "root\n",
            " |-- term: string (nullable = true)\n",
            " |-- home_ownership: string (nullable = true)\n",
            " |-- grade: string (nullable = true)\n",
            " |-- purpose: string (nullable = true)\n",
            " |-- int_rate: string (nullable = true)\n",
            " |-- addr_state: string (nullable = true)\n",
            " |-- loan_status: string (nullable = true)\n",
            " |-- application_type: string (nullable = true)\n",
            " |-- loan_amnt: integer (nullable = true)\n",
            " |-- emp_length: string (nullable = true)\n",
            " |-- annual_inc: double (nullable = true)\n",
            " |-- dti: double (nullable = true)\n",
            " |-- delinq_2yrs: integer (nullable = true)\n",
            " |-- revol_util: string (nullable = true)\n",
            " |-- total_acc: integer (nullable = true)\n",
            " |-- num_tl_90g_dpd_24m: integer (nullable = true)\n",
            " |-- dti_joint: double (nullable = true)\n",
            " |-- term_cleaned: string (nullable = true)\n",
            " |-- emp_length_Cleaned: string (nullable = true)\n",
            " |-- revol_util_cleaned: string (nullable = true)\n",
            " |-- mean_revol_util: double (nullable = false)\n",
            " |-- revol_util_filled: string (nullable = false)\n",
            " |-- revol_util_final: double (nullable = true)\n",
            "\n"
          ],
          "name": "stdout"
        }
      ]
    },
    {
      "cell_type": "code",
      "metadata": {
        "id": "Y7rdFfbmnFyL",
        "colab_type": "code",
        "colab": {
          "base_uri": "https://localhost:8080/",
          "height": 195
        },
        "outputId": "81222185-2b14-44b9-d757-094f9a8fd493"
      },
      "source": [
        "df_sel.describe(['revol_util','revol_util_final']).show()"
      ],
      "execution_count": 245,
      "outputs": [
        {
          "output_type": "stream",
          "text": [
            "+-------+----------+-----------------+\n",
            "|summary|revol_util| revol_util_final|\n",
            "+-------+----------+-----------------+\n",
            "|  count|    128256|           128412|\n",
            "|   mean|      null|44.19728121881271|\n",
            "| stddev|      null|24.78377355680623|\n",
            "|    min|        0%|              0.0|\n",
            "|    max|    99.90%|            183.8|\n",
            "+-------+----------+-----------------+\n",
            "\n"
          ],
          "name": "stdout"
        }
      ]
    },
    {
      "cell_type": "code",
      "metadata": {
        "id": "kyMbM_jKnVLP",
        "colab_type": "code",
        "colab": {}
      },
      "source": [
        "df_sel = df_sel.withColumn('final_dti',coalesce(col('dti'),col('dti_joint')))   #merging DTI and DTI_Joint"
      ],
      "execution_count": 0,
      "outputs": []
    },
    {
      "cell_type": "code",
      "metadata": {
        "id": "imYx7cvYor7J",
        "colab_type": "code",
        "colab": {
          "base_uri": "https://localhost:8080/",
          "height": 144
        },
        "outputId": "65f660fd-f664-48ee-e1fd-d3b28bf2d128"
      },
      "source": [
        "df_sel.select([ count(  when(isnan(c) | col(c).isNull(),c)).alias(c) for c in df_sel.columns]).show()"
      ],
      "execution_count": 248,
      "outputs": [
        {
          "output_type": "stream",
          "text": [
            "+----+--------------+-----+-------+--------+----------+-----------+----------------+---------+----------+----------+---+-----------+----------+---------+------------------+---------+------------+------------------+------------------+---------------+-----------------+----------------+---------+\n",
            "|term|home_ownership|grade|purpose|int_rate|addr_state|loan_status|application_type|loan_amnt|emp_length|annual_inc|dti|delinq_2yrs|revol_util|total_acc|num_tl_90g_dpd_24m|dti_joint|term_cleaned|emp_length_Cleaned|revol_util_cleaned|mean_revol_util|revol_util_filled|revol_util_final|final_dti|\n",
            "+----+--------------+-----+-------+--------+----------+-----------+----------------+---------+----------+----------+---+-----------+----------+---------+------------------+---------+------------+------------------+------------------+---------------+-----------------+----------------+---------+\n",
            "|   0|             0|    0|      0|       0|         0|          0|               0|        0|         0|         0|237|          0|       156|        0|                 0|   111630|           0|                 0|               156|              0|                0|               0|        0|\n",
            "+----+--------------+-----+-------+--------+----------+-----------+----------------+---------+----------+----------+---+-----------+----------+---------+------------------+---------+------------+------------------+------------------+---------------+-----------------+----------------+---------+\n",
            "\n"
          ],
          "name": "stdout"
        }
      ]
    },
    {
      "cell_type": "code",
      "metadata": {
        "id": "S4gumj6Ro4bG",
        "colab_type": "code",
        "colab": {
          "base_uri": "https://localhost:8080/",
          "height": 230
        },
        "outputId": "4596bf6b-de7f-4e16-808e-55c5cbd0ab8a"
      },
      "source": [
        "df_sel.createOrReplaceTempView('loanstats_sel')\n",
        "spark.sql('select loan_status , count(*) as count from loanstats_sel group by loan_status').show()"
      ],
      "execution_count": 254,
      "outputs": [
        {
          "output_type": "stream",
          "text": [
            "+------------------+------+\n",
            "|       loan_status| count|\n",
            "+------------------+------+\n",
            "|        Fully Paid|  5737|\n",
            "|           Default|    15|\n",
            "|   In Grace Period|   470|\n",
            "|       Charged Off|   209|\n",
            "|Late (31-120 days)|  1030|\n",
            "|           Current|120550|\n",
            "| Late (16-30 days)|   401|\n",
            "+------------------+------+\n",
            "\n"
          ],
          "name": "stdout"
        }
      ]
    },
    {
      "cell_type": "code",
      "metadata": {
        "id": "-31iOfHkrBvL",
        "colab_type": "code",
        "colab": {}
      },
      "source": [
        "# merging all late type of loan_status into one column\n",
        "# segregating load_status into two parts i.e. bad loan = yes/no"
      ],
      "execution_count": 0,
      "outputs": []
    },
    {
      "cell_type": "code",
      "metadata": {
        "id": "68jpFCUFrOfZ",
        "colab_type": "code",
        "colab": {}
      },
      "source": [
        "df_sel = df_sel.withColumn('bad_loan',when(col('loan_status').isin(['In Grace Period','Charged Off','Late (31-120 days)','Late (16-30 days)']),'yes').otherwise('no'))"
      ],
      "execution_count": 0,
      "outputs": []
    },
    {
      "cell_type": "code",
      "metadata": {
        "id": "UBFX3EZosU47",
        "colab_type": "code",
        "colab": {
          "base_uri": "https://localhost:8080/",
          "height": 141
        },
        "outputId": "9795203c-8849-46f9-a273-74f1d844b40d"
      },
      "source": [
        "df_sel.createOrReplaceTempView('loanstats_sel')\n",
        "spark.sql('select bad_loan , count(*) as count from loanstats_sel group by bad_loan').show()"
      ],
      "execution_count": 261,
      "outputs": [
        {
          "output_type": "stream",
          "text": [
            "+--------+------+\n",
            "|bad_loan| count|\n",
            "+--------+------+\n",
            "|      no|126302|\n",
            "|     yes|  2110|\n",
            "+--------+------+\n",
            "\n"
          ],
          "name": "stdout"
        }
      ]
    },
    {
      "cell_type": "code",
      "metadata": {
        "id": "GauoQNMtug_R",
        "colab_type": "code",
        "colab": {
          "base_uri": "https://localhost:8080/",
          "height": 497
        },
        "outputId": "97ee03ac-d5da-4f11-c40c-73a200d37940"
      },
      "source": [
        "df_sel.printSchema()"
      ],
      "execution_count": 265,
      "outputs": [
        {
          "output_type": "stream",
          "text": [
            "root\n",
            " |-- term: string (nullable = true)\n",
            " |-- home_ownership: string (nullable = true)\n",
            " |-- grade: string (nullable = true)\n",
            " |-- purpose: string (nullable = true)\n",
            " |-- int_rate: string (nullable = true)\n",
            " |-- addr_state: string (nullable = true)\n",
            " |-- loan_status: string (nullable = true)\n",
            " |-- application_type: string (nullable = true)\n",
            " |-- loan_amnt: integer (nullable = true)\n",
            " |-- emp_length: string (nullable = true)\n",
            " |-- annual_inc: double (nullable = true)\n",
            " |-- dti: double (nullable = true)\n",
            " |-- delinq_2yrs: integer (nullable = true)\n",
            " |-- revol_util: string (nullable = true)\n",
            " |-- total_acc: integer (nullable = true)\n",
            " |-- num_tl_90g_dpd_24m: integer (nullable = true)\n",
            " |-- dti_joint: double (nullable = true)\n",
            " |-- term_cleaned: string (nullable = true)\n",
            " |-- emp_length_Cleaned: string (nullable = true)\n",
            " |-- revol_util_cleaned: string (nullable = true)\n",
            " |-- mean_revol_util: double (nullable = false)\n",
            " |-- revol_util_filled: string (nullable = false)\n",
            " |-- revol_util_final: double (nullable = true)\n",
            " |-- final_dti: double (nullable = true)\n",
            " |-- bad_loan: string (nullable = false)\n",
            "\n"
          ],
          "name": "stdout"
        }
      ]
    },
    {
      "cell_type": "code",
      "metadata": {
        "id": "2TVRoll5uumn",
        "colab_type": "code",
        "colab": {}
      },
      "source": [
        "final_df = df_sel.drop('term','emp_length','dti','dti_joint','revol_util_filled','revol_util_cleaned','mean_revol_util')"
      ],
      "execution_count": 0,
      "outputs": []
    },
    {
      "cell_type": "code",
      "metadata": {
        "id": "AHuVeBnUvAkd",
        "colab_type": "code",
        "colab": {
          "base_uri": "https://localhost:8080/",
          "height": 372
        },
        "outputId": "fa82c41a-d010-4c6d-83e6-2f8ca0cd89d1"
      },
      "source": [
        "final_df.printSchema()"
      ],
      "execution_count": 270,
      "outputs": [
        {
          "output_type": "stream",
          "text": [
            "root\n",
            " |-- home_ownership: string (nullable = true)\n",
            " |-- grade: string (nullable = true)\n",
            " |-- purpose: string (nullable = true)\n",
            " |-- int_rate: string (nullable = true)\n",
            " |-- addr_state: string (nullable = true)\n",
            " |-- loan_status: string (nullable = true)\n",
            " |-- application_type: string (nullable = true)\n",
            " |-- loan_amnt: integer (nullable = true)\n",
            " |-- annual_inc: double (nullable = true)\n",
            " |-- delinq_2yrs: integer (nullable = true)\n",
            " |-- revol_util: string (nullable = true)\n",
            " |-- total_acc: integer (nullable = true)\n",
            " |-- num_tl_90g_dpd_24m: integer (nullable = true)\n",
            " |-- term_cleaned: string (nullable = true)\n",
            " |-- emp_length_Cleaned: string (nullable = true)\n",
            " |-- revol_util_final: double (nullable = true)\n",
            " |-- final_dti: double (nullable = true)\n",
            " |-- bad_loan: string (nullable = false)\n",
            "\n"
          ],
          "name": "stdout"
        }
      ]
    },
    {
      "cell_type": "code",
      "metadata": {
        "id": "7Cu55oXBvFSC",
        "colab_type": "code",
        "colab": {
          "base_uri": "https://localhost:8080/",
          "height": 141
        },
        "outputId": "b5216647-b6bd-452c-d396-942c525cab2a"
      },
      "source": [
        "final_df.stat.crosstab('bad_loan','grade').show()         # as we movie forward in grades the ratio of bad loan increases"
      ],
      "execution_count": 272,
      "outputs": [
        {
          "output_type": "stream",
          "text": [
            "+--------------+-----+-----+-----+-----+----+---+---+\n",
            "|bad_loan_grade|    A|    B|    C|    D|   E|  F|  G|\n",
            "+--------------+-----+-----+-----+-----+----+---+---+\n",
            "|           yes|  210|  427|  606|  515| 303| 33| 16|\n",
            "|            no|37801|35434|30412|16557|5659|354| 85|\n",
            "+--------------+-----+-----+-----+-----+----+---+---+\n",
            "\n"
          ],
          "name": "stdout"
        }
      ]
    },
    {
      "cell_type": "markdown",
      "metadata": {
        "id": "dd9UW2j8wSWC",
        "colab_type": "text"
      },
      "source": [
        "##creating a permanent table !\n",
        "\n"
      ]
    },
    {
      "cell_type": "code",
      "metadata": {
        "id": "0T5VD-9WwG2u",
        "colab_type": "code",
        "colab": {}
      },
      "source": [
        "final_df.write.format('parquet').saveAsTable('LC_Loan_Data')"
      ],
      "execution_count": 0,
      "outputs": []
    },
    {
      "cell_type": "code",
      "metadata": {
        "id": "MzUNZQsqwRKb",
        "colab_type": "code",
        "colab": {
          "base_uri": "https://localhost:8080/",
          "height": 232
        },
        "outputId": "09a0dad6-24c9-4618-b4a5-34024e2d0efe"
      },
      "source": [
        "spark.sql('select * from lc_loan_Data').show(5)"
      ],
      "execution_count": 281,
      "outputs": [
        {
          "output_type": "stream",
          "text": [
            "+--------------+-----+------------------+--------+----------+-----------+----------------+---------+----------+-----------+----------+---------+------------------+------------+------------------+----------------+---------+--------+\n",
            "|home_ownership|grade|           purpose|int_rate|addr_state|loan_status|application_type|loan_amnt|annual_inc|delinq_2yrs|revol_util|total_acc|num_tl_90g_dpd_24m|term_cleaned|emp_length_Cleaned|revol_util_final|final_dti|bad_loan|\n",
            "+--------------+-----+------------------+--------+----------+-----------+----------------+---------+----------+-----------+----------+---------+------------------+------------+------------------+----------------+---------+--------+\n",
            "|      MORTGAGE|    B|debt_consolidation|  10.33%|        OR|    Current|      Individual|    10000|  280000.0|          2|       38%|       23|                 0|         36 |                 1|            38.0|     6.15|      no|\n",
            "|      MORTGAGE|    B|  home_improvement|  12.98%|        KY|    Current|      Individual|     9600|   35704.0|          0|    11.50%|       23|                 0|         36 |                  |            11.5|     0.84|      no|\n",
            "|          RENT|    E|debt_consolidation|  23.40%|        NJ|    Current|      Individual|     4000|   90000.0|          0|    19.20%|       20|                 0|         36 |                 3|            19.2|    26.33|      no|\n",
            "|          RENT|    C|debt_consolidation|  13.56%|        NY|    Current|      Individual|     2500|   55000.0|          0|    10.30%|       34|                 0|         36 |                10|            10.3|    18.24|      no|\n",
            "|      MORTGAGE|    D|debt_consolidation|  18.94%|        LA|    Current|      Individual|    30000|   90000.0|          0|    24.20%|       44|                 0|         60 |                10|            24.2|    26.52|      no|\n",
            "+--------------+-----+------------------+--------+----------+-----------+----------------+---------+----------+-----------+----------+---------+------------------+------------+------------------+----------------+---------+--------+\n",
            "only showing top 5 rows\n",
            "\n"
          ],
          "name": "stdout"
        }
      ]
    },
    {
      "cell_type": "code",
      "metadata": {
        "id": "Hy7t7C7EwoXr",
        "colab_type": "code",
        "colab": {}
      },
      "source": [
        ""
      ],
      "execution_count": 0,
      "outputs": []
    }
  ]
}