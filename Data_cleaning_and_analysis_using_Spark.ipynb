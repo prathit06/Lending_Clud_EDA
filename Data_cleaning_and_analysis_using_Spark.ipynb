{
  "nbformat": 4,
  "nbformat_minor": 0,
  "metadata": {
    "colab": {
      "name": "Data cleaning and analysis using Spark.ipynb",
      "provenance": [],
      "collapsed_sections": []
    },
    "kernelspec": {
      "name": "python3",
      "display_name": "Python 3"
    }
  },
  "cells": [
    {
      "cell_type": "code",
      "metadata": {
        "id": "HVdQtoK5pbfh",
        "colab_type": "code",
        "colab": {}
      },
      "source": [
        "!apt-get install openjdk-8-jdk-headless -qq > /dev/null\n",
        "!wget -q https://downloads.apache.org/spark/spark-2.4.5/spark-2.4.5-bin-hadoop2.7.tgz\n",
        "!tar xf spark-2.4.5-bin-hadoop2.7.tgz\n",
        "!pip install -q findspark\n",
        "import os\n",
        "os.environ[\"JAVA_HOME\"]  = \"/usr/lib/jvm/java-8-openjdk-amd64\"\n",
        "os.environ[\"SPARK_HOME\"] = \"/content/spark-2.4.5-bin-hadoop2.7\"\n",
        "import findspark\n",
        "findspark.init()"
      ],
      "execution_count": 0,
      "outputs": []
    },
    {
      "cell_type": "code",
      "metadata": {
        "id": "e1ddxSfcpiWY",
        "colab_type": "code",
        "colab": {}
      },
      "source": [
        "#from google.colab import drive\n",
        "#drive.mount('/content/drive/')"
      ],
      "execution_count": 0,
      "outputs": []
    },
    {
      "cell_type": "code",
      "metadata": {
        "id": "SFrAEk_OuuRX",
        "colab_type": "code",
        "colab": {}
      },
      "source": [
        "from pyspark.sql import SparkSession\n",
        "spark = SparkSession.builder.appName('DataCleaning_analysis').getOrCreate()"
      ],
      "execution_count": 0,
      "outputs": []
    },
    {
      "cell_type": "code",
      "metadata": {
        "id": "NPsyJIeSucit",
        "colab_type": "code",
        "colab": {}
      },
      "source": [
        "df = spark.read.csv('/content/drive/My Drive/Datasets/LoanStats_2018Q4.csv',inferSchema = \"True\",header = \"True\")"
      ],
      "execution_count": 0,
      "outputs": []
    },
    {
      "cell_type": "code",
      "metadata": {
        "id": "XnMtUSd7vDzF",
        "colab_type": "code",
        "colab": {
          "base_uri": "https://localhost:8080/",
          "height": 1000
        },
        "outputId": "cd272840-0dd3-4962-cfe1-982b16910823"
      },
      "source": [
        "df.printSchema()"
      ],
      "execution_count": 34,
      "outputs": [
        {
          "output_type": "stream",
          "text": [
            "root\n",
            " |-- id: string (nullable = true)\n",
            " |-- member_id: string (nullable = true)\n",
            " |-- loan_amnt: integer (nullable = true)\n",
            " |-- funded_amnt: integer (nullable = true)\n",
            " |-- funded_amnt_inv: double (nullable = true)\n",
            " |-- term: string (nullable = true)\n",
            " |-- int_rate: string (nullable = true)\n",
            " |-- installment: double (nullable = true)\n",
            " |-- grade: string (nullable = true)\n",
            " |-- sub_grade: string (nullable = true)\n",
            " |-- emp_title: string (nullable = true)\n",
            " |-- emp_length: string (nullable = true)\n",
            " |-- home_ownership: string (nullable = true)\n",
            " |-- annual_inc: double (nullable = true)\n",
            " |-- verification_status: string (nullable = true)\n",
            " |-- issue_d: string (nullable = true)\n",
            " |-- loan_status: string (nullable = true)\n",
            " |-- pymnt_plan: string (nullable = true)\n",
            " |-- url: string (nullable = true)\n",
            " |-- desc: string (nullable = true)\n",
            " |-- purpose: string (nullable = true)\n",
            " |-- title: string (nullable = true)\n",
            " |-- zip_code: string (nullable = true)\n",
            " |-- addr_state: string (nullable = true)\n",
            " |-- dti: double (nullable = true)\n",
            " |-- delinq_2yrs: integer (nullable = true)\n",
            " |-- earliest_cr_line: string (nullable = true)\n",
            " |-- inq_last_6mths: integer (nullable = true)\n",
            " |-- mths_since_last_delinq: integer (nullable = true)\n",
            " |-- mths_since_last_record: integer (nullable = true)\n",
            " |-- open_acc: integer (nullable = true)\n",
            " |-- pub_rec: integer (nullable = true)\n",
            " |-- revol_bal: integer (nullable = true)\n",
            " |-- revol_util: string (nullable = true)\n",
            " |-- total_acc: integer (nullable = true)\n",
            " |-- initial_list_status: string (nullable = true)\n",
            " |-- out_prncp: double (nullable = true)\n",
            " |-- out_prncp_inv: double (nullable = true)\n",
            " |-- total_pymnt: double (nullable = true)\n",
            " |-- total_pymnt_inv: double (nullable = true)\n",
            " |-- total_rec_prncp: double (nullable = true)\n",
            " |-- total_rec_int: double (nullable = true)\n",
            " |-- total_rec_late_fee: double (nullable = true)\n",
            " |-- recoveries: double (nullable = true)\n",
            " |-- collection_recovery_fee: double (nullable = true)\n",
            " |-- last_pymnt_d: string (nullable = true)\n",
            " |-- last_pymnt_amnt: double (nullable = true)\n",
            " |-- next_pymnt_d: string (nullable = true)\n",
            " |-- last_credit_pull_d: string (nullable = true)\n",
            " |-- collections_12_mths_ex_med: integer (nullable = true)\n",
            " |-- mths_since_last_major_derog: integer (nullable = true)\n",
            " |-- policy_code: integer (nullable = true)\n",
            " |-- application_type: string (nullable = true)\n",
            " |-- annual_inc_joint: double (nullable = true)\n",
            " |-- dti_joint: double (nullable = true)\n",
            " |-- verification_status_joint: string (nullable = true)\n",
            " |-- acc_now_delinq: integer (nullable = true)\n",
            " |-- tot_coll_amt: integer (nullable = true)\n",
            " |-- tot_cur_bal: integer (nullable = true)\n",
            " |-- open_acc_6m: integer (nullable = true)\n",
            " |-- open_act_il: integer (nullable = true)\n",
            " |-- open_il_12m: integer (nullable = true)\n",
            " |-- open_il_24m: integer (nullable = true)\n",
            " |-- mths_since_rcnt_il: integer (nullable = true)\n",
            " |-- total_bal_il: integer (nullable = true)\n",
            " |-- il_util: integer (nullable = true)\n",
            " |-- open_rv_12m: integer (nullable = true)\n",
            " |-- open_rv_24m: integer (nullable = true)\n",
            " |-- max_bal_bc: integer (nullable = true)\n",
            " |-- all_util: integer (nullable = true)\n",
            " |-- total_rev_hi_lim: integer (nullable = true)\n",
            " |-- inq_fi: integer (nullable = true)\n",
            " |-- total_cu_tl: integer (nullable = true)\n",
            " |-- inq_last_12m: integer (nullable = true)\n",
            " |-- acc_open_past_24mths: integer (nullable = true)\n",
            " |-- avg_cur_bal: integer (nullable = true)\n",
            " |-- bc_open_to_buy: integer (nullable = true)\n",
            " |-- bc_util: double (nullable = true)\n",
            " |-- chargeoff_within_12_mths: integer (nullable = true)\n",
            " |-- delinq_amnt: integer (nullable = true)\n",
            " |-- mo_sin_old_il_acct: integer (nullable = true)\n",
            " |-- mo_sin_old_rev_tl_op: integer (nullable = true)\n",
            " |-- mo_sin_rcnt_rev_tl_op: integer (nullable = true)\n",
            " |-- mo_sin_rcnt_tl: integer (nullable = true)\n",
            " |-- mort_acc: integer (nullable = true)\n",
            " |-- mths_since_recent_bc: integer (nullable = true)\n",
            " |-- mths_since_recent_bc_dlq: integer (nullable = true)\n",
            " |-- mths_since_recent_inq: integer (nullable = true)\n",
            " |-- mths_since_recent_revol_delinq: integer (nullable = true)\n",
            " |-- num_accts_ever_120_pd: integer (nullable = true)\n",
            " |-- num_actv_bc_tl: integer (nullable = true)\n",
            " |-- num_actv_rev_tl: integer (nullable = true)\n",
            " |-- num_bc_sats: integer (nullable = true)\n",
            " |-- num_bc_tl: integer (nullable = true)\n",
            " |-- num_il_tl: integer (nullable = true)\n",
            " |-- num_op_rev_tl: integer (nullable = true)\n",
            " |-- num_rev_accts: integer (nullable = true)\n",
            " |-- num_rev_tl_bal_gt_0: integer (nullable = true)\n",
            " |-- num_sats: integer (nullable = true)\n",
            " |-- num_tl_120dpd_2m: integer (nullable = true)\n",
            " |-- num_tl_30dpd: integer (nullable = true)\n",
            " |-- num_tl_90g_dpd_24m: integer (nullable = true)\n",
            " |-- num_tl_op_past_12m: integer (nullable = true)\n",
            " |-- pct_tl_nvr_dlq: double (nullable = true)\n",
            " |-- percent_bc_gt_75: double (nullable = true)\n",
            " |-- pub_rec_bankruptcies: integer (nullable = true)\n",
            " |-- tax_liens: integer (nullable = true)\n",
            " |-- tot_hi_cred_lim: integer (nullable = true)\n",
            " |-- total_bal_ex_mort: integer (nullable = true)\n",
            " |-- total_bc_limit: integer (nullable = true)\n",
            " |-- total_il_high_credit_limit: integer (nullable = true)\n",
            " |-- revol_bal_joint: integer (nullable = true)\n",
            " |-- sec_app_earliest_cr_line: string (nullable = true)\n",
            " |-- sec_app_inq_last_6mths: integer (nullable = true)\n",
            " |-- sec_app_mort_acc: integer (nullable = true)\n",
            " |-- sec_app_open_acc: integer (nullable = true)\n",
            " |-- sec_app_revol_util: double (nullable = true)\n",
            " |-- sec_app_open_act_il: integer (nullable = true)\n",
            " |-- sec_app_num_rev_accts: integer (nullable = true)\n",
            " |-- sec_app_chargeoff_within_12_mths: integer (nullable = true)\n",
            " |-- sec_app_collections_12_mths_ex_med: integer (nullable = true)\n",
            " |-- sec_app_mths_since_last_major_derog: integer (nullable = true)\n",
            " |-- hardship_flag: string (nullable = true)\n",
            " |-- hardship_type: string (nullable = true)\n",
            " |-- hardship_reason: string (nullable = true)\n",
            " |-- hardship_status: string (nullable = true)\n",
            " |-- deferral_term: integer (nullable = true)\n",
            " |-- hardship_amount: double (nullable = true)\n",
            " |-- hardship_start_date: string (nullable = true)\n",
            " |-- hardship_end_date: string (nullable = true)\n",
            " |-- payment_plan_start_date: string (nullable = true)\n",
            " |-- hardship_length: integer (nullable = true)\n",
            " |-- hardship_dpd: integer (nullable = true)\n",
            " |-- hardship_loan_status: string (nullable = true)\n",
            " |-- orig_projected_additional_accrued_interest: double (nullable = true)\n",
            " |-- hardship_payoff_balance_amount: double (nullable = true)\n",
            " |-- hardship_last_payment_amount: double (nullable = true)\n",
            " |-- debt_settlement_flag: string (nullable = true)\n",
            " |-- debt_settlement_flag_date: string (nullable = true)\n",
            " |-- settlement_status: string (nullable = true)\n",
            " |-- settlement_date: string (nullable = true)\n",
            " |-- settlement_amount: integer (nullable = true)\n",
            " |-- settlement_percentage: double (nullable = true)\n",
            " |-- settlement_term: integer (nullable = true)\n",
            "\n"
          ],
          "name": "stdout"
        }
      ]
    },
    {
      "cell_type": "code",
      "metadata": {
        "id": "FzBhdtjivHH3",
        "colab_type": "code",
        "colab": {
          "base_uri": "https://localhost:8080/",
          "height": 35
        },
        "outputId": "16359e51-d035-4ad0-8f37-83c388a43328"
      },
      "source": [
        "df.count()"
      ],
      "execution_count": 35,
      "outputs": [
        {
          "output_type": "execute_result",
          "data": {
            "text/plain": [
              "128416"
            ]
          },
          "metadata": {
            "tags": []
          },
          "execution_count": 35
        }
      ]
    },
    {
      "cell_type": "code",
      "metadata": {
        "id": "YiOwb4DfvJwH",
        "colab_type": "code",
        "colab": {}
      },
      "source": [
        "df_sel = df.select(['term','home_ownership','grade','purpose',\n",
        "                    'int_rate','addr_state','loan_status','application_type',\n",
        "                    'loan_amnt','emp_length','annual_inc','dti','delinq_2yrs',\n",
        "                    'revol_util','total_acc','num_tl_90g_dpd_24m','dti_joint'\n",
        "                    ])"
      ],
      "execution_count": 0,
      "outputs": []
    },
    {
      "cell_type": "code",
      "metadata": {
        "id": "UlGHwujt0MOY",
        "colab_type": "code",
        "colab": {
          "base_uri": "https://localhost:8080/",
          "height": 215
        },
        "outputId": "833567cb-1f3a-4e73-d14d-490515e1363f"
      },
      "source": [
        "df_sel.describe().show()"
      ],
      "execution_count": 38,
      "outputs": [
        {
          "output_type": "stream",
          "text": [
            "+-------+----------+--------------+------+--------+--------+----------+------------------+----------------+------------------+----------+------------------+------------------+-------------------+----------+------------------+--------------------+------------------+\n",
            "|summary|      term|home_ownership| grade| purpose|int_rate|addr_state|       loan_status|application_type|         loan_amnt|emp_length|        annual_inc|               dti|        delinq_2yrs|revol_util|         total_acc|  num_tl_90g_dpd_24m|         dti_joint|\n",
            "+-------+----------+--------------+------+--------+--------+----------+------------------+----------------+------------------+----------+------------------+------------------+-------------------+----------+------------------+--------------------+------------------+\n",
            "|  count|    128412|        128412|128412|  128412|  128412|    128412|            128412|          128412|            128412|    128412|            128412|            128175|             128412|    128256|            128412|              128412|             16782|\n",
            "|   mean|      null|          null|  null|    null|    null|      null|              null|            null| 15971.32102139987|      null|  82797.3278609476| 19.93317753071978|0.22783696227766875|      null|22.677413325857398|0.059488209824626985|19.226602312000985|\n",
            "| stddev|      null|          null|  null|    null|    null|      null|              null|            null|10150.384232741852|      null|108298.46579150103|20.143542243475455| 0.7337929617806055|      null|12.129215673024776|  0.4106517365944228|  8.14163126459558|\n",
            "|    min| 36 months|           ANY|     A|     car|  10.08%|        AK|       Charged Off|      Individual|              1000|    1 year|               0.0|               0.0|                  0|        0%|                 2|                   0|               0.0|\n",
            "|    max| 60 months|          RENT|     G|vacation|   8.81%|        WY|Late (31-120 days)|       Joint App|             40000|       n/a|         9757200.0|             999.0|                 24|    99.90%|               160|                  23|             39.99|\n",
            "+-------+----------+--------------+------+--------+--------+----------+------------------+----------------+------------------+----------+------------------+------------------+-------------------+----------+------------------+--------------------+------------------+\n",
            "\n"
          ],
          "name": "stdout"
        }
      ]
    },
    {
      "cell_type": "code",
      "metadata": {
        "id": "wVfxtFEZ1SF6",
        "colab_type": "code",
        "colab": {
          "base_uri": "https://localhost:8080/",
          "height": 195
        },
        "outputId": "eebe3d86-2ba5-4fd4-c5c5-a139e0817630"
      },
      "source": [
        "df_sel.describe(['term','loan_amnt','emp_length','annual_inc','dti','delinq_2yrs','revol_util','total_acc']).show()"
      ],
      "execution_count": 43,
      "outputs": [
        {
          "output_type": "stream",
          "text": [
            "+-------+----------+------------------+----------+------------------+------------------+-------------------+----------+------------------+\n",
            "|summary|      term|         loan_amnt|emp_length|        annual_inc|               dti|        delinq_2yrs|revol_util|         total_acc|\n",
            "+-------+----------+------------------+----------+------------------+------------------+-------------------+----------+------------------+\n",
            "|  count|    128412|            128412|    128412|            128412|            128175|             128412|    128256|            128412|\n",
            "|   mean|      null| 15971.32102139987|      null|  82797.3278609476| 19.93317753071978|0.22783696227766875|      null|22.677413325857398|\n",
            "| stddev|      null|10150.384232741852|      null|108298.46579150103|20.143542243475455| 0.7337929617806055|      null|12.129215673024776|\n",
            "|    min| 36 months|              1000|    1 year|               0.0|               0.0|                  0|        0%|                 2|\n",
            "|    max| 60 months|             40000|       n/a|         9757200.0|             999.0|                 24|    99.90%|               160|\n",
            "+-------+----------+------------------+----------+------------------+------------------+-------------------+----------+------------------+\n",
            "\n"
          ],
          "name": "stdout"
        }
      ]
    },
    {
      "cell_type": "code",
      "metadata": {
        "id": "j6pNgmE02q2F",
        "colab_type": "code",
        "colab": {
          "base_uri": "https://localhost:8080/",
          "height": 55
        },
        "outputId": "cca58da6-8a9f-4f5c-fab7-8461bc3b40b5"
      },
      "source": [
        "df_sel.cache                                                                    #cache the dataset in executer cache memory."
      ],
      "execution_count": 44,
      "outputs": [
        {
          "output_type": "execute_result",
          "data": {
            "text/plain": [
              "<bound method DataFrame.cache of DataFrame[term: string, home_ownership: string, grade: string, purpose: string, int_rate: string, addr_state: string, loan_status: string, application_type: string, loan_amnt: int, emp_length: string, annual_inc: double, dti: double, delinq_2yrs: int, revol_util: string, total_acc: int, num_tl_90g_dpd_24m: int, dti_joint: double]>"
            ]
          },
          "metadata": {
            "tags": []
          },
          "execution_count": 44
        }
      ]
    },
    {
      "cell_type": "code",
      "metadata": {
        "id": "2PTTU_H23R75",
        "colab_type": "code",
        "colab": {
          "base_uri": "https://localhost:8080/",
          "height": 195
        },
        "outputId": "cf7d5eaa-f8fc-4803-a259-5d02097ed03d"
      },
      "source": [
        "df_sel.describe(['loan_amnt','emp_length','dti','delinq_2yrs','revol_util','total_acc']).show()"
      ],
      "execution_count": 45,
      "outputs": [
        {
          "output_type": "stream",
          "text": [
            "+-------+------------------+----------+------------------+-------------------+----------+------------------+\n",
            "|summary|         loan_amnt|emp_length|               dti|        delinq_2yrs|revol_util|         total_acc|\n",
            "+-------+------------------+----------+------------------+-------------------+----------+------------------+\n",
            "|  count|            128412|    128412|            128175|             128412|    128256|            128412|\n",
            "|   mean| 15971.32102139987|      null| 19.93317753071978|0.22783696227766875|      null|22.677413325857398|\n",
            "| stddev|10150.384232741852|      null|20.143542243475455| 0.7337929617806055|      null|12.129215673024776|\n",
            "|    min|              1000|    1 year|               0.0|                  0|        0%|                 2|\n",
            "|    max|             40000|       n/a|             999.0|                 24|    99.90%|               160|\n",
            "+-------+------------------+----------+------------------+-------------------+----------+------------------+\n",
            "\n"
          ],
          "name": "stdout"
        }
      ]
    },
    {
      "cell_type": "code",
      "metadata": {
        "id": "5I9y8Pza3iYw",
        "colab_type": "code",
        "colab": {
          "base_uri": "https://localhost:8080/",
          "height": 284
        },
        "outputId": "e53003b7-c670-4fc8-ee29-eab6f194f651"
      },
      "source": [
        "df.createOrReplaceTempView('loanStats')         #Temp table\n",
        "spark.sql('select emp_length from loanstats limit 10').show()"
      ],
      "execution_count": 51,
      "outputs": [
        {
          "output_type": "stream",
          "text": [
            "+----------+\n",
            "|emp_length|\n",
            "+----------+\n",
            "|  < 1 year|\n",
            "|       n/a|\n",
            "|   3 years|\n",
            "| 10+ years|\n",
            "| 10+ years|\n",
            "|   6 years|\n",
            "|   5 years|\n",
            "| 10+ years|\n",
            "| 10+ years|\n",
            "|  < 1 year|\n",
            "+----------+\n",
            "\n"
          ],
          "name": "stdout"
        }
      ]
    },
    {
      "cell_type": "code",
      "metadata": {
        "id": "QhdBnQPU4BWN",
        "colab_type": "code",
        "colab": {}
      },
      "source": [
        "from pyspark.sql.functions import regexp_extract,regexp_replace\n",
        "from pyspark.sql.functions import col"
      ],
      "execution_count": 0,
      "outputs": []
    },
    {
      "cell_type": "code",
      "metadata": {
        "id": "yg_l5GxN4HmD",
        "colab_type": "code",
        "colab": {}
      },
      "source": [
        ""
      ],
      "execution_count": 0,
      "outputs": []
    }
  ]
}